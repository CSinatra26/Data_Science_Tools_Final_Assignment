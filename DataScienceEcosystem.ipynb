{
 "cells": [
  {
   "cell_type": "markdown",
   "id": "24db975a-47c6-48b8-9f06-91ad59c4162f",
   "metadata": {},
   "source": [
    "# Data Science Tools and Ecosystem"
   ]
  },
  {
   "cell_type": "markdown",
   "id": "da4f19da-3d96-47e3-9ba7-eca6b23d8785",
   "metadata": {},
   "source": [
    "In this notebook, Data Science Tools and Ecosystems are summarized."
   ]
  },
  {
   "cell_type": "markdown",
   "id": "72294d25-363c-4e05-9298-7f48a6be380f",
   "metadata": {},
   "source": [
    "**Objectives:**  \n",
    "* List popular languages for Data Science  \n",
    "* List commonly used libraries for Data Science  \n",
    "* List popular Data Science tools  \n",
    "* Demonstrate a few arithmetic expressions in Python"
   ]
  },
  {
   "cell_type": "markdown",
   "id": "1f9deba2-d3b1-4295-95e4-fbc5428d70f4",
   "metadata": {},
   "source": [
    "Some of the popular languages that Data Scientists use are:  \n",
    "1. Python  \n",
    "2. R  \n",
    "3. SQL  \n",
    "4. Julia  \n",
    "5. Java  \n",
    "6. JavaScript"
   ]
  },
  {
   "cell_type": "markdown",
   "id": "3807dad3-350d-47a5-b8eb-837c818b89bb",
   "metadata": {},
   "source": [
    "Some of the commonly used libraries used by Data Scientists include:  \n",
    "1. TensorFlow  \n",
    "2. Pandas  \n",
    "3. NumPy  \n",
    "4. Keras  \n",
    "5. Scikit-learn  \n",
    "6. Matplotlib  "
   ]
  },
  {
   "cell_type": "markdown",
   "id": "8e51d089-79c7-4375-9411-dfc8e62a06bb",
   "metadata": {},
   "source": [
    "| Data Science Tools |  \n",
    "| --- |  \n",
    "| JupyterLab |  \n",
    "| RStudio |  \n",
    "| Ray |  "
   ]
  },
  {
   "cell_type": "markdown",
   "id": "f3bef0f9-a399-41b9-9a02-d29edbde824f",
   "metadata": {},
   "source": [
    "### Below are a few examples of evaluating arithmetic expressions in Python"
   ]
  },
  {
   "cell_type": "code",
   "execution_count": 2,
   "id": "adb074ce-e121-4171-8870-bff496d74446",
   "metadata": {},
   "outputs": [
    {
     "data": {
      "text/plain": [
       "17"
      ]
     },
     "execution_count": 2,
     "metadata": {},
     "output_type": "execute_result"
    }
   ],
   "source": [
    "# This is a simple arithmetic expression to multiply then add integers\n",
    "(3*4)+5"
   ]
  },
  {
   "cell_type": "code",
   "execution_count": 4,
   "id": "2f5880d5-1cb9-4ee7-97dc-d3278602f841",
   "metadata": {},
   "outputs": [
    {
     "data": {
      "text/plain": [
       "3.3333333333333335"
      ]
     },
     "execution_count": 4,
     "metadata": {},
     "output_type": "execute_result"
    }
   ],
   "source": [
    "# This will convert 200 minutes to hours by dividing by 60\n",
    "200/60"
   ]
  },
  {
   "cell_type": "markdown",
   "id": "17009f9e-07dc-4ead-b247-eed3aba52819",
   "metadata": {},
   "source": [
    "## Author\n",
    "Chris Sinatra"
   ]
  }
 ],
 "metadata": {
  "kernelspec": {
   "display_name": "Python",
   "language": "python",
   "name": "conda-env-python-py"
  },
  "language_info": {
   "codemirror_mode": {
    "name": "ipython",
    "version": 3
   },
   "file_extension": ".py",
   "mimetype": "text/x-python",
   "name": "python",
   "nbconvert_exporter": "python",
   "pygments_lexer": "ipython3",
   "version": "3.7.12"
  }
 },
 "nbformat": 4,
 "nbformat_minor": 5
}
